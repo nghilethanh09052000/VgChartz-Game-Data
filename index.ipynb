{
 "cells": [
  {
   "cell_type": "code",
   "execution_count": 125,
   "metadata": {},
   "outputs": [],
   "source": [
    "from bs4 import BeautifulSoup, element\n",
    "import pandas as pd\n",
    "import numpy as np\n",
    "import urllib\n",
    "import re"
   ]
  },
  {
   "cell_type": "code",
   "execution_count": 128,
   "metadata": {},
   "outputs": [],
   "source": [
    "pos = []\n",
    "gameName = []\n",
    "console = []\n",
    "publisher = []\n",
    "chartScore = []\n",
    "criticScore = []\n",
    "userScore = []\n",
    "totalShipped = []\n",
    "releasedDate = []\n",
    "lastUpdate = []\n",
    "\n",
    "def run():\n",
    "    baseUrl = 'https://www.vgchartz.com/gamedb/'\n",
    "    r = urllib.request.urlopen(baseUrl).read()\n",
    "    soup = BeautifulSoup(r)\n",
    "    lastPage = soup.find_all('a',href = re.compile('^/games/games.php\\?page=(\\d)'))[-1]\n",
    "    pages = int(re.findall('\\d{4}',lastPage['href'])[0])\n",
    "    pagnitionProcessing(pages)\n",
    "\n",
    "# Packaging csv file with zip file\n",
    "def packageData(cols):\n",
    "    data = pd.DataFrame(cols)\n",
    "    data.to_csv(\"Data.csv\", sep=\",\", encoding='utf-8', index=False)\n",
    "\n",
    "# Collect Data and Create Table\n",
    "def createTable(rows):\n",
    "    \n",
    "    for row in rows:\n",
    "        data = row.find_all(\"td\")\n",
    "        pos.append(data[0].text)\n",
    "        gameName.append(data[2].find('a').contents[0].strip())\n",
    "        console.append(data[3].find('img').attrs['alt'])\n",
    "        publisher.append(data[4].text)\n",
    "        chartScore.append(data[5].text)\n",
    "        criticScore.append(data[6].text)\n",
    "        userScore.append(data[7].text)\n",
    "        totalShipped.append(data[8].text)\n",
    "        releasedDate.append(data[9].text)\n",
    "        lastUpdate.append(data[10].text)\n",
    "\n",
    "    columns = {\n",
    "    'Position': pos,\n",
    "    'Game': gameName,\n",
    "    'Console': console,\n",
    "    'Publisher': publisher,\n",
    "    'VGChartz Score': chartScore,\n",
    "    'Critic Score': criticScore,\n",
    "    'User Score': userScore,\n",
    "    'Total Shipped': totalShipped,\n",
    "    'Release Date': releasedDate,\n",
    "    'Last Update': lastUpdate\n",
    "}\n",
    "    packageData(columns)\n",
    "\n",
    "# For loop in each page:\n",
    "def pagnitionProcessing(pages):\n",
    "    for page in range(1, pages + 1):\n",
    "        url = f\"https://www.vgchartz.com/games/games.php?page={page}&order=Sales&ownership=Both&showpublisher={page}&showreleasedate={page}&showlastupdate={page}&showvgchartzscore={page}&showcriticscore={page}&showuserscore={page}&showshipped={page}\"\n",
    "        initUrl = urllib.request.urlopen(url).read()\n",
    "        soup = BeautifulSoup(initUrl)\n",
    "        rows = soup.find_all('tr',style=True)\n",
    "        createTable(rows)"
   ]
  },
  {
   "cell_type": "code",
   "execution_count": 130,
   "metadata": {},
   "outputs": [
    {
     "name": "stdout",
     "output_type": "stream",
     "text": [
      "1249\n"
     ]
    }
   ],
   "source": [
    "run()"
   ]
  },
  {
   "cell_type": "code",
   "execution_count": null,
   "metadata": {},
   "outputs": [],
   "source": []
  },
  {
   "cell_type": "code",
   "execution_count": null,
   "metadata": {},
   "outputs": [],
   "source": [
    "\n",
    "    "
   ]
  },
  {
   "cell_type": "code",
   "execution_count": null,
   "metadata": {},
   "outputs": [],
   "source": []
  },
  {
   "cell_type": "code",
   "execution_count": null,
   "metadata": {},
   "outputs": [],
   "source": []
  },
  {
   "cell_type": "code",
   "execution_count": null,
   "metadata": {},
   "outputs": [],
   "source": [
    "#run()"
   ]
  },
  {
   "cell_type": "code",
   "execution_count": null,
   "metadata": {},
   "outputs": [],
   "source": []
  }
 ],
 "metadata": {
  "kernelspec": {
   "display_name": ".venv",
   "language": "python",
   "name": "python3"
  },
  "language_info": {
   "codemirror_mode": {
    "name": "ipython",
    "version": 3
   },
   "file_extension": ".py",
   "mimetype": "text/x-python",
   "name": "python",
   "nbconvert_exporter": "python",
   "pygments_lexer": "ipython3",
   "version": "3.10.9"
  },
  "orig_nbformat": 4,
  "vscode": {
   "interpreter": {
    "hash": "71822b8d8a72780175c30370e0c612677fefd4dfb4b2ab644dd139f86eeb7013"
   }
  }
 },
 "nbformat": 4,
 "nbformat_minor": 2
}
