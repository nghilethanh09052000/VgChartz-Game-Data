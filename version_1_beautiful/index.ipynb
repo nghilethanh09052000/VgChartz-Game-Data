{
 "cells": [
  {
   "cell_type": "code",
   "execution_count": 24,
   "metadata": {},
   "outputs": [],
   "source": [
    "from bs4 import BeautifulSoup, element\n",
    "import pandas as pd\n",
    "import numpy as np\n",
    "import urllib\n",
    "import re"
   ]
  },
  {
   "cell_type": "code",
   "execution_count": 25,
   "metadata": {},
   "outputs": [],
   "source": [
    "pos = []\n",
    "gameName = []\n",
    "console = []\n",
    "publisher = []\n",
    "totalShipped = []\n",
    "totalSales = []\n",
    "naSales = []\n",
    "palSales = []\n",
    "jpSales = []\n",
    "otherSales = []\n",
    "releaseDate = []\n",
    "lastUpdate = []\n",
    "\n",
    "\n",
    "def run():\n",
    "    baseUrl = 'https://www.vgchartz.com/gamedb/'\n",
    "    r = urllib.request.urlopen(baseUrl,timeout=200).read()\n",
    "    soup = BeautifulSoup(r)\n",
    "    lastPage = soup.find_all('a',href = re.compile('^/games/games.php\\?page=(\\d)'))[-1]\n",
    "    pages = int(re.findall('\\d{4}',lastPage['href'])[0])\n",
    "    paginationProcess(pages)\n",
    " \n",
    "# Packaging csv file\n",
    "def packageData(cols):\n",
    "    data = pd.DataFrame(cols)\n",
    "    data.to_csv(\"Data.csv\", sep=\",\", encoding='utf-8', index=False)\n",
    "\n",
    "# Collect Data and Create Table\n",
    "def createTable(rows):\n",
    "\n",
    "    for row in rows:\n",
    "        data = row.find_all(\"td\")\n",
    "        pos.append(data[0].text)\n",
    "        gameName.append(data[2].find('a').contents[0].strip())\n",
    "        console.append(data[3].find('img').attrs['alt'])\n",
    "        publisher.append(data[4].text)\n",
    "        totalShipped.append(data[5].text)\n",
    "        totalSales.append(data[6].text)\n",
    "        naSales.append(data[7].text)\n",
    "        palSales.append(data[8].text)\n",
    "        jpSales.append(data[9].text)\n",
    "        otherSales.append(data[10].text)\n",
    "        releaseDate.append(data[11].text)\n",
    "        lastUpdate.append(data[12].text)\n",
    "\n",
    "    columns = {\n",
    "    'Position': pos,\n",
    "    'Game': gameName,\n",
    "    'Console': console,\n",
    "    'Publisher': publisher,\n",
    "    'Total Shipped': totalShipped,\n",
    "    'Total Sales': totalSales,\n",
    "    'NA Sales': naSales,\n",
    "    'PAL Sales': palSales,\n",
    "    'Japan Sales': jpSales,\n",
    "    'Other Sales': otherSales,\n",
    "    'Release Date': releaseDate,\n",
    "    'Last Update': lastUpdate\n",
    "}\n",
    "    packageData(columns)\n",
    "\n",
    "# For loop in each page:\n",
    "def paginationProcess(pages):\n",
    "    for page in range(1, pages+1):\n",
    "        url = f\"https://www.vgchartz.com/games/games.php?page={page}&order=Sales&ownership=Both&direction=DESC&showtotalsales={page}&shownasales={page}&showpalsales={page}&showjapansales={page}&showothersales={page}&showpublisher={page}&showdeveloper=0&showreleasedate={page}&showlastupdate={page}&showvgchartzscore=0&showcriticscore=0&showuserscore=0&showshipped={page}\"\n",
    "        initUrl = urllib.request.urlopen(url).read()\n",
    "        soup = BeautifulSoup(initUrl)\n",
    "        rows = soup.find_all('tr',style=True)\n",
    "        createTable(rows)\n",
    "        "
   ]
  },
  {
   "cell_type": "code",
   "execution_count": 26,
   "metadata": {},
   "outputs": [],
   "source": [
    "run()"
   ]
  },
  {
   "cell_type": "code",
   "execution_count": null,
   "metadata": {},
   "outputs": [],
   "source": []
  },
  {
   "cell_type": "code",
   "execution_count": null,
   "metadata": {},
   "outputs": [],
   "source": []
  },
  {
   "cell_type": "code",
   "execution_count": null,
   "metadata": {},
   "outputs": [],
   "source": []
  },
  {
   "cell_type": "code",
   "execution_count": null,
   "metadata": {},
   "outputs": [],
   "source": [
    "#run()"
   ]
  },
  {
   "cell_type": "code",
   "execution_count": null,
   "metadata": {},
   "outputs": [],
   "source": []
  }
 ],
 "metadata": {
  "kernelspec": {
   "display_name": ".venv",
   "language": "python",
   "name": "python3"
  },
  "language_info": {
   "codemirror_mode": {
    "name": "ipython",
    "version": 3
   },
   "file_extension": ".py",
   "mimetype": "text/x-python",
   "name": "python",
   "nbconvert_exporter": "python",
   "pygments_lexer": "ipython3",
   "version": "3.10.9"
  },
  "orig_nbformat": 4,
  "vscode": {
   "interpreter": {
    "hash": "71822b8d8a72780175c30370e0c612677fefd4dfb4b2ab644dd139f86eeb7013"
   }
  }
 },
 "nbformat": 4,
 "nbformat_minor": 2
}
