{
 "cells": [
  {
   "cell_type": "code",
   "execution_count": 40,
   "metadata": {},
   "outputs": [],
   "source": [
    "import pandas as pd\n",
    "import numpy as np"
   ]
  },
  {
   "cell_type": "code",
   "execution_count": 41,
   "metadata": {},
   "outputs": [],
   "source": [
    "data = pd.read_csv('Data.csv')"
   ]
  },
  {
   "cell_type": "code",
   "execution_count": 42,
   "metadata": {},
   "outputs": [
    {
     "data": {
      "text/html": [
       "<div>\n",
       "<style scoped>\n",
       "    .dataframe tbody tr th:only-of-type {\n",
       "        vertical-align: middle;\n",
       "    }\n",
       "\n",
       "    .dataframe tbody tr th {\n",
       "        vertical-align: top;\n",
       "    }\n",
       "\n",
       "    .dataframe thead th {\n",
       "        text-align: right;\n",
       "    }\n",
       "</style>\n",
       "<table border=\"1\" class=\"dataframe\">\n",
       "  <thead>\n",
       "    <tr style=\"text-align: right;\">\n",
       "      <th></th>\n",
       "      <th>Position</th>\n",
       "      <th>Game</th>\n",
       "      <th>Console</th>\n",
       "      <th>Publisher</th>\n",
       "      <th>Total Shipped</th>\n",
       "      <th>Total Sales</th>\n",
       "      <th>NA Sales</th>\n",
       "      <th>PAL Sales</th>\n",
       "      <th>Japan Sales</th>\n",
       "      <th>Other Sales</th>\n",
       "      <th>Release Date</th>\n",
       "      <th>Last Update</th>\n",
       "    </tr>\n",
       "  </thead>\n",
       "  <tbody>\n",
       "    <tr>\n",
       "      <th>0</th>\n",
       "      <td>1</td>\n",
       "      <td>Tetris</td>\n",
       "      <td>Series</td>\n",
       "      <td>Nintendo</td>\n",
       "      <td>496.40m</td>\n",
       "      <td>NaN</td>\n",
       "      <td>NaN</td>\n",
       "      <td>NaN</td>\n",
       "      <td>NaN</td>\n",
       "      <td>NaN</td>\n",
       "      <td>31st Jul 89</td>\n",
       "      <td>27th Feb 20</td>\n",
       "    </tr>\n",
       "    <tr>\n",
       "      <th>1</th>\n",
       "      <td>2</td>\n",
       "      <td>Pokemon</td>\n",
       "      <td>Series</td>\n",
       "      <td>Nintendo</td>\n",
       "      <td>452.94m</td>\n",
       "      <td>NaN</td>\n",
       "      <td>NaN</td>\n",
       "      <td>NaN</td>\n",
       "      <td>NaN</td>\n",
       "      <td>NaN</td>\n",
       "      <td>28th Sep 98</td>\n",
       "      <td>03rd Feb 20</td>\n",
       "    </tr>\n",
       "    <tr>\n",
       "      <th>2</th>\n",
       "      <td>3</td>\n",
       "      <td>Call of Duty</td>\n",
       "      <td>Series</td>\n",
       "      <td>Activision</td>\n",
       "      <td>400.00m</td>\n",
       "      <td>NaN</td>\n",
       "      <td>NaN</td>\n",
       "      <td>NaN</td>\n",
       "      <td>NaN</td>\n",
       "      <td>NaN</td>\n",
       "      <td>29th Oct 03</td>\n",
       "      <td>03rd Feb 20</td>\n",
       "    </tr>\n",
       "    <tr>\n",
       "      <th>3</th>\n",
       "      <td>4</td>\n",
       "      <td>Super Mario</td>\n",
       "      <td>Series</td>\n",
       "      <td>Nintendo</td>\n",
       "      <td>394.96m</td>\n",
       "      <td>NaN</td>\n",
       "      <td>NaN</td>\n",
       "      <td>NaN</td>\n",
       "      <td>NaN</td>\n",
       "      <td>NaN</td>\n",
       "      <td>20th Jul 83</td>\n",
       "      <td>20th Feb 20</td>\n",
       "    </tr>\n",
       "    <tr>\n",
       "      <th>4</th>\n",
       "      <td>5</td>\n",
       "      <td>Grand Theft Auto</td>\n",
       "      <td>Series</td>\n",
       "      <td>Rockstar Games</td>\n",
       "      <td>385.00m</td>\n",
       "      <td>NaN</td>\n",
       "      <td>NaN</td>\n",
       "      <td>NaN</td>\n",
       "      <td>NaN</td>\n",
       "      <td>NaN</td>\n",
       "      <td>27th Mar 98</td>\n",
       "      <td>03rd Feb 20</td>\n",
       "    </tr>\n",
       "  </tbody>\n",
       "</table>\n",
       "</div>"
      ],
      "text/plain": [
       "   Position              Game Console         Publisher Total Shipped  \\\n",
       "0         1            Tetris  Series        Nintendo         496.40m   \n",
       "1         2           Pokemon  Series        Nintendo         452.94m   \n",
       "2         3      Call of Duty  Series      Activision         400.00m   \n",
       "3         4       Super Mario  Series        Nintendo         394.96m   \n",
       "4         5  Grand Theft Auto  Series  Rockstar Games         385.00m   \n",
       "\n",
       "  Total Sales NA Sales PAL Sales Japan Sales Other Sales   Release Date  \\\n",
       "0         NaN      NaN       NaN         NaN         NaN  31st Jul 89     \n",
       "1         NaN      NaN       NaN         NaN         NaN  28th Sep 98     \n",
       "2         NaN      NaN       NaN         NaN         NaN  29th Oct 03     \n",
       "3         NaN      NaN       NaN         NaN         NaN  20th Jul 83     \n",
       "4         NaN      NaN       NaN         NaN         NaN  27th Mar 98     \n",
       "\n",
       "   Last Update  \n",
       "0  27th Feb 20  \n",
       "1  03rd Feb 20  \n",
       "2  03rd Feb 20  \n",
       "3  20th Feb 20  \n",
       "4  03rd Feb 20  "
      ]
     },
     "execution_count": 42,
     "metadata": {},
     "output_type": "execute_result"
    }
   ],
   "source": [
    "data.head()"
   ]
  },
  {
   "cell_type": "code",
   "execution_count": 43,
   "metadata": {},
   "outputs": [
    {
     "data": {
      "text/plain": [
       "0        True\n",
       "1        True\n",
       "2        True\n",
       "3        True\n",
       "4        True\n",
       "         ... \n",
       "62418    True\n",
       "62419    True\n",
       "62420    True\n",
       "62421    True\n",
       "62422    True\n",
       "Name: Total Sales, Length: 62423, dtype: bool"
      ]
     },
     "execution_count": 43,
     "metadata": {},
     "output_type": "execute_result"
    }
   ],
   "source": [
    "data['Total Sales'].isna()"
   ]
  },
  {
   "cell_type": "code",
   "execution_count": 53,
   "metadata": {},
   "outputs": [],
   "source": [
    "salesColumns = data['Total Sales'].dropna()"
   ]
  },
  {
   "cell_type": "code",
   "execution_count": 45,
   "metadata": {},
   "outputs": [],
   "source": [
    "# Remove white space\n",
    "data['Publisher'] = data['Publisher'].apply(lambda x: x.strip())"
   ]
  },
  {
   "cell_type": "code",
   "execution_count": 46,
   "metadata": {},
   "outputs": [
    {
     "data": {
      "text/plain": [
       "3365"
      ]
     },
     "execution_count": 46,
     "metadata": {},
     "output_type": "execute_result"
    }
   ],
   "source": [
    "data['Publisher'].nunique()"
   ]
  },
  {
   "cell_type": "code",
   "execution_count": 47,
   "metadata": {},
   "outputs": [
    {
     "data": {
      "text/plain": [
       "58234"
      ]
     },
     "execution_count": 47,
     "metadata": {},
     "output_type": "execute_result"
    }
   ],
   "source": [
    "data['Total Shipped'].isna().sum()"
   ]
  },
  {
   "cell_type": "code",
   "execution_count": 54,
   "metadata": {},
   "outputs": [
    {
     "data": {
      "text/plain": [
       "160      20.32m\n",
       "186      19.39m\n",
       "219      16.15m\n",
       "225      15.86m\n",
       "231      15.09m\n",
       "          ...  \n",
       "23164     0.00m\n",
       "23165     0.00m\n",
       "23166     0.00m\n",
       "23167     0.00m\n",
       "23168     0.00m\n",
       "Name: Total Sales, Length: 18980, dtype: object"
      ]
     },
     "execution_count": 54,
     "metadata": {},
     "output_type": "execute_result"
    }
   ],
   "source": [
    "salesColumns"
   ]
  }
 ],
 "metadata": {
  "kernelspec": {
   "display_name": ".venv",
   "language": "python",
   "name": "python3"
  },
  "language_info": {
   "codemirror_mode": {
    "name": "ipython",
    "version": 3
   },
   "file_extension": ".py",
   "mimetype": "text/x-python",
   "name": "python",
   "nbconvert_exporter": "python",
   "pygments_lexer": "ipython3",
   "version": "3.10.9 (tags/v3.10.9:1dd9be6, Dec  6 2022, 20:01:21) [MSC v.1934 64 bit (AMD64)]"
  },
  "orig_nbformat": 4,
  "vscode": {
   "interpreter": {
    "hash": "71822b8d8a72780175c30370e0c612677fefd4dfb4b2ab644dd139f86eeb7013"
   }
  }
 },
 "nbformat": 4,
 "nbformat_minor": 2
}
